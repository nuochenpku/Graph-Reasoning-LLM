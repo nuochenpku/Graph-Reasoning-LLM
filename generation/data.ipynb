{
 "cells": [
  {
   "cell_type": "code",
   "execution_count": 8,
   "metadata": {},
   "outputs": [],
   "source": [
    "import json\n",
    "import re\n",
    "import random\n",
    "from tqdm import tqdm\n",
    "from typing import Optional, Dict, Sequence, List\n",
    "# import argparse\n",
    "\n",
    "def extract_last_num(text: str) -> float:\n",
    "    text = re.sub(r\"(\\d),(\\d)\", \"\\g<1>\\g<2>\", text)  # 处理形如 123,456\n",
    "    res = re.findall(r\"(\\d+(\\.\\d+)?)\", text)  # 匹配 123456.789\n",
    "    if len(res) > 0:\n",
    "        num_str = res[-1][0]\n",
    "        return float(num_str)\n",
    "    else:\n",
    "        return 0.0\n",
    "def check(key, truth, predict):\n",
    "    # correct_samples  = {task:[] for task in tasks}\n",
    "\n",
    "\n",
    "    if key in ['cycle', 'connectivity', 'hamilton', 'substructure', 'bipartite']:\n",
    "       \n",
    "        if 'yes' in truth.lower() and 'yes' in predict.split('###')[-1].lower():\n",
    "            # correct_samples[key].append(v)\n",
    "            return True\n",
    "        elif 'no' in truth.lower() and 'no' in predict.split('###')[-1].lower():\n",
    "            return True\n",
    "        return False\n",
    "    \n",
    "    elif key in ['flow', 'shortest', 'triplet']:\n",
    "      \n",
    "        t_num = extract_last_num(truth)\n",
    "        p_num = extract_last_num(predict.split('###')[-1])\n",
    "        if abs(t_num - p_num) < 1e-2:\n",
    "            return True\n",
    "        return False\n",
    "                \n",
    "    elif key == 'topology':\n",
    "        \n",
    "        pre = predict.split('###')[-1].strip(' ')\n",
    "        \n",
    "        truth = truth.split('###')[-1].strip(' ')\n",
    "\n",
    "        if truth in pre or pre in truth:\n",
    "            return True\n",
    "        return False\n",
    "    \n",
    "    \n"
   ]
  },
  {
   "cell_type": "code",
   "execution_count": 28,
   "metadata": {},
   "outputs": [
    {
     "name": "stdout",
     "output_type": "stream",
     "text": [
      "67324\n"
     ]
    }
   ],
   "source": [
    "with open('/cpfs/user/chennuo/CN/Graph_RFT_Data/gpt4data/gpt4_gsm8knlg_sample3_output.json') as f:\n",
    "    datas = f.readlines()\n",
    "print(len(datas))\n",
    "\n",
    "tasks = ['cycle', 'connectivity', 'hamilton', 'substructure', 'bipartite', 'flow', 'shortest', 'triplet', 'topology']\n",
    "correct_samples  = {task:[] for task in tasks}\n",
    "all_samples  = {task:[] for task in tasks}\n",
    "temp = 0\n",
    "select_samples = []\n",
    "math_samples = []\n",
    "for data in datas:\n",
    "    \n",
    "    data = json.loads(data)\n",
    "        \n",
    "    task = data['task']\n",
    "    \n",
    "    if task in ['4','5', '6', '7', '8','9']:\n",
    "        temp += 1\n",
    "        math_samples.append(data)\n",
    "        continue\n",
    "    if check(task, data['response'], data['dv3_response']):\n",
    "        if data['query'] not in  correct_samples[task]:\n",
    "            correct_samples[task].append(data['query'])\n",
    "            select_samples.append(data)\n",
    "            \n",
    "    if data['query'] not in all_samples[task]:\n",
    "        all_samples[task].append(data['query'])\n",
    "        \n",
    "with open('/cpfs/user/chennuo/CN/Graph_RFT_Data/gpt4data/gpt4_generate_nlg.json', 'w' ) as writer:\n",
    "    for sample in select_samples:\n",
    "        writer.write(json.dumps(sample, ensure_ascii=False) + '\\n')\n",
    "\n",
    "\n",
    "with open('/cpfs/user/chennuo/CN/Graph_RFT_Data/gpt4data/gpt4_generate_math.json', 'w' ) as writer:\n",
    "    for sample in math_samples:\n",
    "        writer.write(json.dumps(sample, ensure_ascii=False) + '\\n')"
   ]
  },
  {
   "cell_type": "code",
   "execution_count": 26,
   "metadata": {},
   "outputs": [
    {
     "name": "stdout",
     "output_type": "stream",
     "text": [
      "cycle\n",
      "3000\n",
      "connectivity\n",
      "3000\n",
      "hamilton\n",
      "3000\n",
      "substructure\n",
      "1130\n",
      "bipartite\n",
      "2991\n",
      "flow\n",
      "3000\n",
      "shortest\n",
      "2999\n",
      "triplet\n",
      "3000\n",
      "topology\n",
      "2973\n"
     ]
    }
   ],
   "source": [
    "for key, value in all_samples.items():\n",
    "    print(key)\n",
    "    print(len(value))"
   ]
  },
  {
   "cell_type": "code",
   "execution_count": 32,
   "metadata": {},
   "outputs": [
    {
     "data": {
      "text/plain": [
       "16127"
      ]
     },
     "execution_count": 32,
     "metadata": {},
     "output_type": "execute_result"
    }
   ],
   "source": [
    "len(select_samples)"
   ]
  },
  {
   "cell_type": "code",
   "execution_count": 27,
   "metadata": {},
   "outputs": [
    {
     "name": "stdout",
     "output_type": "stream",
     "text": [
      "cycle\n",
      "0.9406666666666667\n",
      "connectivity\n",
      "0.9246666666666666\n",
      "hamilton\n",
      "0.742\n",
      "substructure\n",
      "0.827433628318584\n",
      "bipartite\n",
      "0.6756937479103978\n",
      "flow\n",
      "0.07533333333333334\n",
      "shortest\n",
      "0.49783261087029007\n",
      "triplet\n",
      "0.9186666666666666\n",
      "topology\n",
      "0.2939791456441305\n"
     ]
    }
   ],
   "source": [
    "for key, value in correct_samples.items():\n",
    "    print(key)\n",
    "    total = all_samples[key]\n",
    "    print(len(value)/len(total))\n",
    "\n",
    "# all_samples"
   ]
  },
  {
   "cell_type": "code",
   "execution_count": 30,
   "metadata": {},
   "outputs": [
    {
     "data": {
      "text/plain": [
       "'Find the maximum sum of the weights of three interconnected nodes. In an undirected graph, [i, k] means that node i has the weight k. (i,j) means that node i and node j are connected with an undirected edge. Given a graph, you need to output the maximum sum of the weights of three interconnected nodes. \\nQ: The nodes are numbered from 0 to 13, weights of nodes are: [0, 1] [1, 5] [2, 6] [3, 10] [4, 8] [5, 3] [6, 10] [7, 5] [8, 3] [9, 6] [10, 9] [11, 9] [12, 7] [13, 6], and the edges are: (1, 7) (1, 3) (3, 7) (4, 5) (8, 9). What is the maximum sum of the weights of three nodes?'"
      ]
     },
     "execution_count": 30,
     "metadata": {},
     "output_type": "execute_result"
    }
   ],
   "source": [
    "correct_samples['triplet'][-1]"
   ]
  },
  {
   "cell_type": "code",
   "execution_count": 21,
   "metadata": {},
   "outputs": [],
   "source": [
    "import json\n",
    "with open('/cpfs/user/chennuo/CN/Graph_RFT_Data/gpt4data/gpt4_generate_nlg.json') as f:\n",
    "    datas = f.readlines()\n",
    "refine_datas = []\n",
    "temp = 0\n",
    "for data in datas:\n",
    "    data = json.loads(data)\n",
    "    new_data = dict()\n",
    "    new_data['query'] = data['query']\n",
    "    new_data['task'] = data['task']\n",
    "    new_data['response'] = data['response']\n",
    "    response = data['dv3_response'].split('A:')[-1].split('\\n\\n')[-1]\n",
    "    if '###' not in response:\n",
    "        response +=  data['response'] +'.'\n",
    "    if 'print' in response or 'return' in response or 'def' in response:\n",
    "        temp += 1\n",
    "        continue\n",
    "    new_data['CoT_response'] = response\n",
    "    refine_datas.append(new_data)\n",
    "\n",
    "with open('/cpfs/user/chennuo/CN/Graph_RFT_Data/gpt4data/graph_source_data_v1.json', 'w' ) as writer:\n",
    "    for sample in refine_datas:\n",
    "        writer.write(json.dumps(sample, ensure_ascii=False) + '\\n')"
   ]
  },
  {
   "cell_type": "code",
   "execution_count": 22,
   "metadata": {},
   "outputs": [
    {
     "data": {
      "text/plain": [
       "{'query': 'Determine whether or not a graph is bipartite. In a directed graph, (i->j) means that node i and node j are connected with an directed edge from node i to node j. Given a graph, you need to output Yes or No, indicating whether the graph is bipartite. \\nQ: The nodes are numbered from 0 to 8, and the edges are: (0->7) (0->3) (0->6) (1->7) (1->4) (1->5) (4->8) (4->5) (5->6) (5->8). Is this graph bipartite?',\n",
       " 'task': 'bipartite',\n",
       " 'response': '### No',\n",
       " 'CoT_response': ' To examine whether the given graph is bipartite, we try to assign the nodes to two different sets, A and B, such that no two adjacent nodes belong to the same set. \\nThe graph has nodes from 0 to 8 and edges like (0->7), (1->4), and (5->8). \\nWe can start by putting node 0 in set A and node 7 in set B, since they are connected by an edge. \\nThen, we can put node 3 and node 6 in set B, since they are connected to node 0 by edges. \\nNext, we can put node 1 in set A, since it is connected to node 7 by an edge. \\nNow, we have a problem with node 4, since it is connected to both node 1 and node 8 by edges. \\nIf we put node 4 in set B, then node 8 has to be in set A, but node 8 is also connected to node 5 by an edge. \\nIf we put node 4 in set A, then node 8 has to be in set B, but node 8 is also connected to node 6 by an edge. \\nTherefore, we cannot assign node 4 and node 8 to either set without creating a conflict. \\nThis means that the graph is not bipartite, since we cannot divide the nodes into two sets such that no two nodes in the same set are adjacent. ### No.'}"
      ]
     },
     "execution_count": 22,
     "metadata": {},
     "output_type": "execute_result"
    }
   ],
   "source": [
    "import random\n",
    "random.sample(refine_datas, 10)[0]"
   ]
  },
  {
   "cell_type": "code",
   "execution_count": 25,
   "metadata": {},
   "outputs": [],
   "source": [
    "\n",
    "PROMPT_DICT = {\n",
    "    \"prompt_input\": (\n",
    "        \"Below is an instruction that describes a task, paired with an input that provides further context. \"\n",
    "        \"Write a response that appropriately completes the request.\\n\\n\"\n",
    "        \"### Instruction:\\n{instruction}\\n\\n### Input:\\n{input}\\n\\n### Response:\"\n",
    "    ),\n",
    "    \"prompt_no_input\": (\n",
    "        \"Below is an instruction that describes a task. \"\n",
    "        \"Write a response that appropriately completes the request.\\n\\n\"\n",
    "        \"### Instruction:\\n{instruction}\\n\\n### Response:\"\n",
    "    ),\n",
    "}\n",
    "\n",
    "\n",
    "with open('/cpfs/user/chennuo/CN/Graph-Reasoning-LLM/datasets/data/graph_source_data_v1_dsformat.json', 'w' ) as writer:\n",
    "    for sample in refine_datas:\n",
    "        \n",
    "        sample['prompt'] = PROMPT_DICT[\"prompt_no_input\"].format(instruction=sample['query'])\n",
    "        sample['chosen'] = sample['CoT_response']\n",
    "        sample['rejected'] = 'I do not know'\n",
    "        writer.write(json.dumps(sample, ensure_ascii=False) + '\\n')"
   ]
  }
 ],
 "metadata": {
  "kernelspec": {
   "display_name": "base",
   "language": "python",
   "name": "python3"
  },
  "language_info": {
   "codemirror_mode": {
    "name": "ipython",
    "version": 3
   },
   "file_extension": ".py",
   "mimetype": "text/x-python",
   "name": "python",
   "nbconvert_exporter": "python",
   "pygments_lexer": "ipython3",
   "version": "3.8.12"
  }
 },
 "nbformat": 4,
 "nbformat_minor": 2
}
